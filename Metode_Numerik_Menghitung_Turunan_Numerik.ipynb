{
  "nbformat": 4,
  "nbformat_minor": 0,
  "metadata": {
    "colab": {
      "provenance": [],
      "authorship_tag": "ABX9TyPm0dasou3P4oJrSQe3OYk/",
      "include_colab_link": true
    },
    "kernelspec": {
      "name": "python3",
      "display_name": "Python 3"
    },
    "language_info": {
      "name": "python"
    }
  },
  "cells": [
    {
      "cell_type": "markdown",
      "metadata": {
        "id": "view-in-github",
        "colab_type": "text"
      },
      "source": [
        "<a href=\"https://colab.research.google.com/github/Ghefira233/Data-Project/blob/main/Metode_Numerik_Menghitung_Turunan_Numerik.ipynb\" target=\"_parent\"><img src=\"https://colab.research.google.com/assets/colab-badge.svg\" alt=\"Open In Colab\"/></a>"
      ]
    },
    {
      "cell_type": "code",
      "metadata": {
        "colab": {
          "base_uri": "https://localhost:8080/"
        },
        "id": "5fUg_ycwxHdx",
        "outputId": "5e10731a-0c29-42d6-f216-afb9a1f2b31c"
      },
      "source": [
        "#Menghitung f'(2.4)\n",
        "print(\"Halo, selamat datang. Di program ini, kamu dapat menghitung turunan numerik menggunakan 4 metode\")    \n",
        "p = input(\"Mau tau ada apa aja? (Y/N) : \")                                                                   #Meminta untuk memilih ingin menampilkan 4 metode atau tidak\n",
        "\n",
        "if p == \"Y\":                                                                                                 #Jika memilih Y, maka akan meng-print \"Oke, ada TPEP, TPMP, FPEP, FPMP. Silahkan mencoba :D\"\n",
        "  print(\"Oke, ada TPEP, TPMP, FPEP, FPMP. Silahkan mencoba :D\")\n",
        "elif p == \"N\":                                                                                               #Jika memilih N, maka akan meng-print \"Oke udah hafal berarti, langsung lanjut isi fungsinya!\"\n",
        "  print(\"Oke udah hafal berarti, langsung lanjut isi fungsinya!\")\n",
        "\n",
        "pilih = int(input('Mau pake metode apa? (1 = TPEP, 2 = TPMP, 3 = FPEP, 4 = FPMP) : '))                       #Meminta untuk memilih ingin pakai metode apa\n",
        "if pilih == 1:                                                                                               #Jika pilih 1, maka akan menjalankan program untuk TPEP \n",
        "  x = [2.4,2.5,2.6,2.7,2.8,2.9,3.0]                                                                          #Titik-titik x berupa list\n",
        "  y = [1.76601,1.87697,1.97803,2.06988,2.15357,2.22953,2.29859]                                              #Titik-titik y berupa list\n",
        "  x_turun = eval(input('Masukkan titik dimana nilai turunan fungsinya akan diaproksimasi : '))               #Meminta untuk menginput titik dimana nilai turunan fungsinya akan diaproksimasi\n",
        "  h = eval(input('Masukkan stepsize nya : '))                                                                #Meminta untuk menginput stepsize nya\n",
        "  n = int(input('Ingin diturunkan berapa kali? : '))                                                         #Meminta untuk memilih ingin diturunkan berapa kali                                                                                              \n",
        "  \n",
        "  def TPEP(x0,h,x,y,n):\n",
        "    if n==1:                                                                                                 #Jika n = 1, maka fungsi akan diturunkan sebanyak 1 kali\n",
        "      return (1/(2*h))*(-3*y[x.index(round(x0,1))]+4*y[x.index(round(x0+h,1))]-y[x.index(round(x0+2*h,1))])\n",
        "    else:                                                                                                    #Untuk n lainnya maka fungsi akan diturunkan sebanyak n kali\n",
        "      return (1/(2*h))*(-3*TPEP(x0,h,x,y,n-1)+4*TPEP(x0+h,h,x,y,n-1)-TPEP(x0+2*h,h,x,y,n-1))\n",
        "\n",
        "  print(TPEP(x_turun,h,x,y,n))                                                                               #Meng-print hasil turunannya\n",
        "\n",
        "if pilih == 2:                                                                                               #Jika pilih 2, maka akan menjalankan program untuk TPMP\n",
        "  x = [2.4,2.5,2.6,2.7,2.8,2.9,3.0]                                                                          #Titik-titik x berupa list\n",
        "  y = [1.76601,1.87697,1.97803,2.06988,2.15357,2.22953,2.29859]                                              #Titik-titik y berupa list\n",
        "  x_turun2 = eval(input('Masukkan titik dimana nilai turunan fungsinya akan diaproksimasi : '))              #Meminta untuk menginput titik dimana nilai turunan fungsinya akan diaproksimasi\n",
        "  h = eval(input('Masukkan stepsize nya : '))                                                                #Meminta untuk menginput stepsize nya\n",
        "  n = int(input('Ingin diturunkan berapa kali? : '))                                                         #Meminta untuk memilih ingin diturunkan berapa kali                                                                                                                       \n",
        "\n",
        "  def TPMP(x0,h,x,y,n):     \n",
        "    if n==1:                                                                                                 #Jika n = 1, maka fungsi akan diturunkan sebanyak 1 kali\n",
        "      return (1/(2*h))*((y[x.index(round(x0+h,1))])-(y[x.index(round(x0-h,1))]))\n",
        "    else:                                                                                                    #Untuk n lainnya maka fungsi akan diturunkan sebanyak n kali\n",
        "      return (1/(2*h))*(TPMP(x0+h,h,x,y,n-1)-TPMP(x0-h,h,x,y,n-1))                             \n",
        "\n",
        "  print(TPMP(x_turun2,h,x,y,n))                                                                              #Meng-print hasil turunannya\n",
        "\n",
        "if pilih == 3:                                                                                               #Jika pilih 3, maka akan menjalankan program untuk TPMP\n",
        "  x = [2.4,2.5,2.6,2.7,2.8,2.9,3.0]                                                                          #Titik-titik x berupa list\n",
        "  y = [1.76601,1.87697,1.97803,2.06988,2.15357,2.22953,2.29859]                                              #Titik-titik y berupa list\n",
        "  x_turun3 = eval(input('Masukkan titik dimana nilai turunan fungsinya akan diaproksimasi : '))              #Meminta untuk menginput titik dimana nilai turunan fungsinya akan diaproksimasi\n",
        "  h = eval(input('Masukkan stepsize nya : '))                                                                #Meminta untuk menginput stepsize nya\n",
        "  n = int(input('Ingin diturunkan berapa kali? : '))                                                         #Meminta untuk memilih ingin diturunkan berapa kali                                                                                                                       \n",
        "\n",
        "  def FPEP(x0,h,x,y,n):\n",
        "    if n==1:                                                                                                 #Jika n = 1, maka fungsi akan diturunkan sebanyak 1 kali\n",
        "      return (1/(12*h))*(-25*(y[x.index(round(x0,1))])+48*(y[x.index(round(x0+h,1))])-36*(y[x.index(round(x0+2*h,1))])+16*(y[x.index(round(x0+3*h,1))])-3*(y[x.index(round(x0+4*h,1))]))\n",
        "    else:                                                                                                    #Untuk n lainnya maka fungsi akan diturunkan sebanyak n kali\n",
        "      return (1/(12*h))*(-25*FPEP(x0,h,x,y,n-1)+48*FPEP(x0+h,h,x,y,n-1)-36*FPEP(x0+2*h,h,x,y,n-1)+16*FPEP(x0+3*h,h,x,y,n-1)-3*FPEP(x0+4*h,h,x,y,n-1))                                                                           \n",
        "  \n",
        "  print(FPEP(x_turun3,h,x,y,n))                                                                              #Meng-print hasil turunannya\n",
        "\n",
        "else:                                                                                                        #Jika pilih 4, maka akan menjalankan program untuk TPMP \n",
        "  x = [2.4,2.5,2.6,2.7,2.8,2.9,3.0]                                                                          #Titik-titik x berupa list\n",
        "  y = [1.76601,1.87697,1.97803,2.06988,2.15357,2.22953,2.29859]                                              #Titik-titik y berupa list\n",
        "  x_turun4 = eval(input('Masukkan titik dimana nilai turunan fungsinya akan diaproksimasi : '))              #Meminta untuk menginput titik dimana nilai turunan fungsinya akan diaproksimasi\n",
        "  h = eval(input('Masukkan stepsize nya : '))                                                                #Meminta untuk menginput stepsize nya\n",
        "  n = int(input('Ingin diturunkan berapa kali? : '))                                                         #Meminta untuk memilih ingin diturunkan berapa kali                                                                                                                    \n",
        "  \n",
        "  def FPMP(titik_x,titik_y,x0,h,n):\n",
        "    if n==1:                                                                                                 #Jika n = 1, maka fungsi akan diturunkan sebanyak 1 kali\n",
        "      return (1/(12*h))*((y[x.index(round(x0-2*h,1))])-8*(y[x.index(round(x0-h,1))])+8*f(y[x.index(round(x0+h,1))])-(y[x.index(round(x0-2*h,1))]))\n",
        "    else:                                                                                                    #Untuk n lainnya maka fungsi akan diturunkan sebanyak n kali\n",
        "      return (1/(12*h))*(FPMP(x0-2*h,h,x,y,n-1)-8*FPMP(x0-h,h,x,y,n-1)+8*FPMP(x0+h,h,x,y,n-1)-FPMP(x0-2*h,h,x,y,n-1))                        \n",
        "\n",
        "  print(FPMP(x_turun4,h,x,y,n))                                                                              #Meng-print hasil turunannya"
      ],
      "execution_count": null,
      "outputs": [
        {
          "output_type": "stream",
          "text": [
            "Halo, selamat datang. Di program ini, kamu dapat menghitung turunan numerik menggunakan 4 metode\n",
            "Mau tau ada apa aja? (Y/N) : Y\n",
            "Oke, ada TPEP, TPMP, FPEP, FPMP. Silahkan mencoba :D\n",
            "Mau pake metode apa? (1 = TPEP, 2 = TPMP, 3 = FPEP, 4 = FPMP) : 3\n",
            "Masukkan titik dimana nilai turunan fungsinya akan diaproksimasi : 2.4\n",
            "Masukkan stepsize nya : 0.1\n",
            "Ingin diturunkan berapa kali? : 1\n",
            "1.1604999999999999\n"
          ],
          "name": "stdout"
        }
      ]
    },
    {
      "cell_type": "markdown",
      "metadata": {
        "id": "QIYlpp5Y2F45"
      },
      "source": [
        "Program ini berfungsi untuk menghitung turunan numerik menggunakan 4 metode.\n",
        "\n",
        "*Input yang diharapkan:*\n",
        "1. Titik $x$ dan nilai dari $f(x)$\n",
        "2. Pilihan metode yang ingin digunakan\n",
        "\n",
        "*Output yang diharapkan:*\n",
        "1. Nilai dari turunan $f(x)$ di titik tersebut\n",
        "\n",
        "*Algoritmanya:*\n",
        "1. Program ini akan meminta untuk memilih ingin menggunakan metode apa. **1** untuk TPEP, **2** untuk  TPMP, **3** untuk FPEP, **4** untuk FPMP\n",
        "2. **Apabila memilih 1, maka akan menjalankan program untuk menghitung turunan pada titik x_turun dengan TPEP**\n",
        "3. Memasukkan titik-titik $x$ [2.4,2.5,2.6,2.7,2.8,2.9,3.0] ke dalam variabel **x** dan titik-titik $y$ [1.76601,1.87697,1.97803,2.06988,2.15357,2.22953,2.29859] ke dalam variabel **y**\n",
        "4. Selanjutnya diminta untuk meng-input titik dimana nilai turunan fungsinya akan di aproksimasi yang dimasukkan ke dalam variabel **x_turun**, stepsizenya yang dimasukkan ke dalam variabel **h** dan ingin diturunkan berapa kali ke dalam variabel **n**\n",
        "5. Meng-print hasil turunannya pada titik **x_turun** dengan metode TPEP\n",
        "6. **Apabila memilih 2, maka akan menjalankan program untuk menghitung turunan pada nilai $x_0$ dengan TPMP**\n",
        "7. Memasukkan titik-titik $x$ [2.4,2.5,2.6,2.7,2.8,2.9,3.0] ke dalam variabel **x** dan titik-titik $y$ [1.76601,1.87697,1.97803,2.06988,2.15357,2.22953,2.29859] ke dalam variabel **y**\n",
        "8. Selanjutnya diminta untuk meng-input titik dimana nilai turunan fungsinya akan di aproksimasi yang dimasukkan ke dalam variabel **x_turun**, stepsizenya yang dimasukkan ke dalam variabel **h** dan ingin diturunkan berapa kali ke dalam variabel **n**\n",
        "9. Meng-print hasil turunannya pada titik **x_turun** dengan metode TPMP\n",
        "10. **Apabila memilih 3, maka akan menjalankan program untuk menghitung turunan pada nilai $x_0$ dengan FPEP**\n",
        "11. Memasukkan titik-titik $x$ [2.4,2.5,2.6,2.7,2.8,2.9,3.0] ke dalam variabel **x** dan titik-titik $y$ [1.76601,1.87697,1.97803,2.06988,2.15357,2.22953,2.29859] ke dalam variabel **y**\n",
        "12. Selanjutnya diminta untuk meng-input titik dimana nilai turunan fungsinya akan di aproksimasi yang dimasukkan ke dalam variabel **x_turun**, stepsizenya yang dimasukkan ke dalam variabel **h** dan ingin diturunkan berapa kali ke dalam variabel **n**\n",
        "13. Meng-print hasil turunannya pada titik **x_turun** dengan metode FPEP\n",
        "14. **Apabila memilih 4, maka akan menjalankan program untuk menghitung turunan pada nilai $x_0$ dengan FPMP**\n",
        "15. Memasukkan titik-titik $x$ [2.4,2.5,2.6,2.7,2.8,2.9,3.0] ke dalam variabel **x** dan titik-titik $y$ [1.76601,1.87697,1.97803,2.06988,2.15357,2.22953,2.29859] ke dalam variabel **y**\n",
        "16. Selanjutnya diminta untuk meng-input titik dimana nilai turunan fungsinya akan di aproksimasi yang dimasukkan ke dalam variabel **x_turun**, stepsizenya yang dimasukkan ke dalam variabel **h** dan ingin diturunkan berapa kali ke dalam variabel **n**\n",
        "17. Meng-print hasil turunannya pada titik **x_turun** dengan metode FPMP"
      ]
    },
    {
      "cell_type": "code",
      "metadata": {
        "colab": {
          "base_uri": "https://localhost:8080/",
          "height": 282
        },
        "id": "aY5HU9hLFABp",
        "outputId": "fa0fe512-e1a4-4c8f-ce08-3a703aa44e50"
      },
      "source": [
        "#Menghitung f''(2.5)\n",
        "print(\"Halo, selamat datang. Di program ini, kamu dapat menghitung turunan numerik menggunakan 4 metode\")    \n",
        "p = input(\"Mau tau ada apa aja? (Y/N) : \")                                                                   #Meminta untuk memilih ingin menampilkan 4 metode atau tidak\n",
        "\n",
        "if p == \"Y\":                                                                                                 #Jika memilih Y, maka akan meng-print \"Oke, ada TPEP, TPMP, FPEP, FPMP. Silahkan mencoba :D\"\n",
        "  print(\"Oke, ada TPEP, TPMP, FPEP, FPMP. Silahkan mencoba :D\")\n",
        "elif p == \"N\":                                                                                               #Jika memilih N, maka akan meng-print \"Oke udah hafal berarti, langsung lanjut isi fungsinya!\"\n",
        "  print(\"Oke udah hafal berarti, langsung lanjut isi fungsinya!\")\n",
        "\n",
        "pilih = int(input('Mau pake metode apa? (1 = TPEP, 2 = TPMP, 3 = FPEP, 4 = FPMP) : '))                       #Meminta untuk memilih ingin pakai metode apa\n",
        "if pilih == 1:                                                                                               #Jika pilih 1, maka akan menjalankan program untuk TPEP \n",
        "  x = [2.4,2.5,2.6,2.7,2.8,2.9,3.0]                                                                          #Titik-titik x berupa list\n",
        "  y = [1.76601,1.87697,1.97803,2.06988,2.15357,2.22953,2.29859]                                              #Titik-titik y berupa list\n",
        "  x_turun = eval(input('Masukkan titik dimana nilai turunan fungsinya akan diaproksimasi : '))               #Meminta untuk menginput titik dimana nilai turunan fungsinya akan diaproksimasi\n",
        "  h = eval(input('Masukkan stepsize nya : '))                                                                #Meminta untuk menginput stepsize nya\n",
        "  n = int(input('Ingin diturunkan berapa kali? : '))                                                         #Meminta untuk memilih ingin diturunkan berapa kali                                                                                              \n",
        "  \n",
        "  def TPEP(x0,h,x,y,n):\n",
        "    if n==1:                                                                                                 #Jika n = 1, maka fungsi akan diturunkan sebanyak 1 kali\n",
        "      return (1/(2*h))*(-3*y[x.index(round(x0,1))]+4*y[x.index(round(x0+h,1))]-y[x.index(round(x0+2*h,1))])\n",
        "    else:                                                                                                    #Untuk n lainnya maka fungsi akan diturunkan sebanyak n kali\n",
        "      return (1/(2*h))*(-3*TPEP(x0,h,x,y,n-1)+4*TPEP(x0+h,h,x,y,n-1)-TPEP(x0+2*h,h,x,y,n-1))\n",
        "\n",
        "  print(TPEP(x_turun,h,x,y,n))                                                                               #Meng-print hasil turunannya\n",
        "\n",
        "if pilih == 2:                                                                                               #Jika pilih 2, maka akan menjalankan program untuk TPMP\n",
        "  x = [2.4,2.5,2.6,2.7,2.8,2.9,3.0]                                                                          #Titik-titik x berupa list\n",
        "  y = [1.76601,1.87697,1.97803,2.06988,2.15357,2.22953,2.29859]                                              #Titik-titik y berupa list\n",
        "  x_turun2 = eval(input('Masukkan titik dimana nilai turunan fungsinya akan diaproksimasi : '))              #Meminta untuk menginput titik dimana nilai turunan fungsinya akan diaproksimasi\n",
        "  h = eval(input('Masukkan stepsize nya : '))                                                                #Meminta untuk menginput stepsize nya\n",
        "  n = int(input('Ingin diturunkan berapa kali? : '))                                                         #Meminta untuk memilih ingin diturunkan berapa kali                                                                                                                       \n",
        "\n",
        "  def TPMP(x0,h,x,y,n):     \n",
        "    if n==1:                                                                                                 #Jika n = 1, maka fungsi akan diturunkan sebanyak 1 kali\n",
        "      return (1/(2*h))*((y[x.index(round(x0+h,1))])-(y[x.index(round(x0-h,1))]))\n",
        "    else:                                                                                                    #Untuk n lainnya maka fungsi akan diturunkan sebanyak n kali\n",
        "      return (1/(2*h))*(TPMP(x0+h,h,x,y,n-1)-TPMP(x0-h,h,x,y,n-1))                             \n",
        "\n",
        "  print(TPMP(x_turun2,h,x,y,n))                                                                              #Meng-print hasil turunannya\n",
        "\n",
        "if pilih == 3:                                                                                               #Jika pilih 3, maka akan menjalankan program untuk TPMP\n",
        "  x = [2.4,2.5,2.6,2.7,2.8,2.9,3.0]                                                                          #Titik-titik x berupa list\n",
        "  y = [1.76601,1.87697,1.97803,2.06988,2.15357,2.22953,2.29859]                                              #Titik-titik y berupa list\n",
        "  x_turun3 = eval(input('Masukkan titik dimana nilai turunan fungsinya akan diaproksimasi : '))              #Meminta untuk menginput titik dimana nilai turunan fungsinya akan diaproksimasi\n",
        "  h = eval(input('Masukkan stepsize nya : '))                                                                #Meminta untuk menginput stepsize nya\n",
        "  n = int(input('Ingin diturunkan berapa kali? : '))                                                         #Meminta untuk memilih ingin diturunkan berapa kali                                                                                                                       \n",
        "\n",
        "  def FPEP(x0,h,x,y,n):\n",
        "    if n==1:                                                                                                 #Jika n = 1, maka fungsi akan diturunkan sebanyak 1 kali\n",
        "      return (1/(12*h))*(-25*(y[x.index(round(x0,1))])+48*(y[x.index(round(x0+h,1))])-36*(y[x.index(round(x0+2*h,1))])+16*(y[x.index(round(x0+3*h,1))])-3*(y[x.index(round(x0+4*h,1))]))\n",
        "    else:                                                                                                    #Untuk n lainnya maka fungsi akan diturunkan sebanyak n kali\n",
        "      return (1/(12*h))*(-25*FPEP(x0,h,x,y,n-1)+48*FPEP(x0+h,h,x,y,n-1)-36*FPEP(x0+2*h,h,x,y,n-1)+16*FPEP(x0+3*h,h,x,y,n-1)-3*FPEP(x0+4*h,h,x,y,n-1))                                                                           \n",
        "  \n",
        "  print(FPEP(x_turun3,h,x,y,n))                                                                              #Meng-print hasil turunannya\n",
        "\n",
        "else:                                                                                                        #Jika pilih 4, maka akan menjalankan program untuk TPMP \n",
        "  x = [2.4,2.5,2.6,2.7,2.8,2.9,3.0]                                                                          #Titik-titik x berupa list\n",
        "  y = [1.76601,1.87697,1.97803,2.06988,2.15357,2.22953,2.29859]                                              #Titik-titik y berupa list\n",
        "  x_turun4 = eval(input('Masukkan titik dimana nilai turunan fungsinya akan diaproksimasi : '))              #Meminta untuk menginput titik dimana nilai turunan fungsinya akan diaproksimasi\n",
        "  h = eval(input('Masukkan stepsize nya : '))                                                                #Meminta untuk menginput stepsize nya\n",
        "  n = int(input('Ingin diturunkan berapa kali? : '))                                                         #Meminta untuk memilih ingin diturunkan berapa kali                                                                                                                    \n",
        "  \n",
        "  def FPMP(x0,h,x,y,n):\n",
        "    if n==1:                                                                                                 #Jika n = 1, maka fungsi akan diturunkan sebanyak 1 kali\n",
        "      return (1/(12*h))*((y[x.index(round(x0-2*h,1))])-8*(y[x.index(round(x0-h,1))])+8*f(y[x.index(round(x0+h,1))])-(y[x.index(round(x0-2*h,1))]))\n",
        "    else:                                                                                                    #Untuk n lainnya maka fungsi akan diturunkan sebanyak n kali\n",
        "      return (1/(12*h))*(FPMP(x0-2*h,h,x,y,n-1)-8*FPMP(x0-h,h,x,y,n-1)+8*FPMP(x0+h,h,x,y,n-1)-FPMP(x0-2*h,h,x,y,n-1))                        \n",
        "\n",
        "  print(FPMP(x_turun4,h,x,y,n))                                                                              #Meng-print hasil turunannya"
      ],
      "execution_count": null,
      "outputs": [
        {
          "output_type": "stream",
          "text": [
            "Halo, selamat datang. Di program ini, kamu dapat menghitung turunan numerik menggunakan 4 metode\n",
            "Mau tau ada apa aja? (Y/N) : Y\n",
            "Oke, ada TPEP, TPMP, FPEP, FPMP. Silahkan mencoba :D\n",
            "Mau pake metode apa? (1 = TPEP, 2 = TPMP, 3 = FPEP, 4 = FPMP) : 1\n",
            "Masukkan titik dimana nilai turunan fungsinya akan diaproksimasi : 2.5\n",
            "Masukkan stepsize nya : 0.1\n",
            "Ingin diturunkan berapa kali? : 2\n",
            "-1.041499999999984\n",
            "Masukkan titik dimana nilai turunan fungsinya akan diaproksimasi : \n"
          ],
          "name": "stdout"
        },
        {
          "output_type": "error",
          "ename": "SyntaxError",
          "evalue": "ignored",
          "traceback": [
            "\u001b[0;36m  File \u001b[0;32m\"<string>\"\u001b[0;36m, line \u001b[0;32munknown\u001b[0m\n\u001b[0;31m    \u001b[0m\n\u001b[0m    ^\u001b[0m\n\u001b[0;31mSyntaxError\u001b[0m\u001b[0;31m:\u001b[0m unexpected EOF while parsing\n"
          ]
        }
      ]
    },
    {
      "cell_type": "code",
      "metadata": {
        "colab": {
          "base_uri": "https://localhost:8080/",
          "height": 282
        },
        "id": "gb63z_RCfW29",
        "outputId": "10db7ef5-22a6-46b2-fd97-61ad90907190"
      },
      "source": [
        "#Menghitung f'''(2.7)\n",
        "print(\"Halo, selamat datang. Di program ini, kamu dapat menghitung turunan numerik menggunakan 4 metode\")    \n",
        "p = input(\"Mau tau ada apa aja? (Y/N) : \")                                                                   #Meminta untuk memilih ingin menampilkan 4 metode atau tidak\n",
        "\n",
        "if p == \"Y\":                                                                                                 #Jika memilih Y, maka akan meng-print \"Oke, ada TPEP, TPMP, FPEP, FPMP. Silahkan mencoba :D\"\n",
        "  print(\"Oke, ada TPEP, TPMP, FPEP, FPMP. Silahkan mencoba :D\")\n",
        "elif p == \"N\":                                                                                               #Jika memilih N, maka akan meng-print \"Oke udah hafal berarti, langsung lanjut isi fungsinya!\"\n",
        "  print(\"Oke udah hafal berarti, langsung lanjut isi fungsinya!\")\n",
        "\n",
        "pilih = int(input('Mau pake metode apa? (1 = TPEP, 2 = TPMP, 3 = FPEP, 4 = FPMP) : '))                       #Meminta untuk memilih ingin pakai metode apa\n",
        "if pilih == 1:                                                                                               #Jika pilih 1, maka akan menjalankan program untuk TPEP \n",
        "  x = [2.4,2.5,2.6,2.7,2.8,2.9,3.0]                                                                          #Titik-titik x berupa list\n",
        "  y = [1.76601,1.87697,1.97803,2.06988,2.15357,2.22953,2.29859]                                              #Titik-titik y berupa list\n",
        "  x_turun = eval(input('Masukkan titik dimana nilai turunan fungsinya akan diaproksimasi : '))               #Meminta untuk menginput titik dimana nilai turunan fungsinya akan diaproksimasi\n",
        "  h = eval(input('Masukkan stepsize nya : '))                                                                #Meminta untuk menginput stepsize nya\n",
        "  n = int(input('Ingin diturunkan berapa kali? : '))                                                         #Meminta untuk memilih ingin diturunkan berapa kali                                                                                              \n",
        "  \n",
        "  def TPEP(x0,h,x,y,n):\n",
        "    if n==1:                                                                                                 #Jika n = 1, maka fungsi akan diturunkan sebanyak 1 kali\n",
        "      return (1/(2*h))*(-3*y[x.index(round(x0,1))]+4*y[x.index(round(x0+h,1))]-y[x.index(round(x0+2*h,1))])\n",
        "    else:                                                                                                    #Untuk n lainnya maka fungsi akan diturunkan sebanyak n kali\n",
        "      return (1/(2*h))*(-3*TPEP(x0,h,x,y,n-1)+4*TPEP(x0+h,h,x,y,n-1)-TPEP(x0+2*h,h,x,y,n-1))\n",
        "\n",
        "  print(TPEP(x_turun,h,x,y,n))                                                                               #Meng-print hasil turunannya\n",
        "\n",
        "if pilih == 2:                                                                                               #Jika pilih 2, maka akan menjalankan program untuk TPMP\n",
        "  x = [2.4,2.5,2.6,2.7,2.8,2.9,3.0]                                                                          #Titik-titik x berupa list\n",
        "  y = [1.76601,1.87697,1.97803,2.06988,2.15357,2.22953,2.29859]                                              #Titik-titik y berupa list\n",
        "  x_turun2 = eval(input('Masukkan titik dimana nilai turunan fungsinya akan diaproksimasi : '))              #Meminta untuk menginput titik dimana nilai turunan fungsinya akan diaproksimasi\n",
        "  h = eval(input('Masukkan stepsize nya : '))                                                                #Meminta untuk menginput stepsize nya\n",
        "  n = int(input('Ingin diturunkan berapa kali? : '))                                                         #Meminta untuk memilih ingin diturunkan berapa kali                                                                                                                       \n",
        "\n",
        "  def TPMP(x0,h,x,y,n):     \n",
        "    if n==1:                                                                                                 #Jika n = 1, maka fungsi akan diturunkan sebanyak 1 kali\n",
        "      return (1/(2*h))*((y[x.index(round(x0+h,1))])-(y[x.index(round(x0-h,1))]))\n",
        "    else:                                                                                                    #Untuk n lainnya maka fungsi akan diturunkan sebanyak n kali\n",
        "      return (1/(2*h))*(TPMP(x0+h,h,x,y,n-1)-TPMP(x0-h,h,x,y,n-1))                             \n",
        "\n",
        "  print(TPMP(x_turun2,h,x,y,n))                                                                              #Meng-print hasil turunannya\n",
        "\n",
        "if pilih == 3:                                                                                               #Jika pilih 3, maka akan menjalankan program untuk TPMP\n",
        "  x = [2.4,2.5,2.6,2.7,2.8,2.9,3.0]                                                                          #Titik-titik x berupa list\n",
        "  y = [1.76601,1.87697,1.97803,2.06988,2.15357,2.22953,2.29859]                                              #Titik-titik y berupa list\n",
        "  x_turun3 = eval(input('Masukkan titik dimana nilai turunan fungsinya akan diaproksimasi : '))              #Meminta untuk menginput titik dimana nilai turunan fungsinya akan diaproksimasi\n",
        "  h = eval(input('Masukkan stepsize nya : '))                                                                #Meminta untuk menginput stepsize nya\n",
        "  n = int(input('Ingin diturunkan berapa kali? : '))                                                         #Meminta untuk memilih ingin diturunkan berapa kali                                                                                                                       \n",
        "\n",
        "  def FPEP(x0,h,x,y,n):\n",
        "    if n==1:                                                                                                 #Jika n = 1, maka fungsi akan diturunkan sebanyak 1 kali\n",
        "      return (1/(12*h))*(-25*(y[x.index(round(x0,1))])+48*(y[x.index(round(x0+h,1))])-36*(y[x.index(round(x0+2*h,1))])+16*(y[x.index(round(x0+3*h,1))])-3*(y[x.index(round(x0+4*h,1))]))\n",
        "    else:                                                                                                    #Untuk n lainnya maka fungsi akan diturunkan sebanyak n kali\n",
        "      return (1/(12*h))*(-25*FPEP(x0,h,x,y,n-1)+48*FPEP(x0+h,h,x,y,n-1)-36*FPEP(x0+2*h,h,x,y,n-1)+16*FPEP(x0+3*h,h,x,y,n-1)-3*FPEP(x0+4*h,h,x,y,n-1))                                                                           \n",
        "  \n",
        "  print(FPEP(x_turun3,h,x,y,n))                                                                              #Meng-print hasil turunannya\n",
        "\n",
        "else:                                                                                                        #Jika pilih 4, maka akan menjalankan program untuk TPMP \n",
        "  x = [2.4,2.5,2.6,2.7,2.8,2.9,3.0]                                                                          #Titik-titik x berupa list\n",
        "  y = [1.76601,1.87697,1.97803,2.06988,2.15357,2.22953,2.29859]                                              #Titik-titik y berupa list\n",
        "  x_turun4 = eval(input('Masukkan titik dimana nilai turunan fungsinya akan diaproksimasi : '))              #Meminta untuk menginput titik dimana nilai turunan fungsinya akan diaproksimasi\n",
        "  h = eval(input('Masukkan stepsize nya : '))                                                                #Meminta untuk menginput stepsize nya\n",
        "  n = int(input('Ingin diturunkan berapa kali? : '))                                                         #Meminta untuk memilih ingin diturunkan berapa kali                                                                                                                    \n",
        "  \n",
        "  def FPMP(x0,h,x,y,n):\n",
        "    if n==1:                                                                                                 #Jika n = 1, maka fungsi akan diturunkan sebanyak 1 kali\n",
        "      return (1/(12*h))*((y[x.index(round(x0-2*h,1))])-8*(y[x.index(round(x0-h,1))])+8*f(y[x.index(round(x0+h,1))])-(y[x.index(round(x0-2*h,1))]))\n",
        "    else:                                                                                                    #Untuk n lainnya maka fungsi akan diturunkan sebanyak n kali\n",
        "      return (1/(12*h))*(FPMP(x0-2*h,h,x,y,n-1)-8*FPMP(x0-h,h,x,y,n-1)+8*FPMP(x0+h,h,x,y,n-1)-FPMP(x0-2*h,h,x,y,n-1))                        \n",
        "\n",
        "  print(FPMP(x_turun4,h,x,y,n))                                                                              #Meng-print hasil turunannya"
      ],
      "execution_count": null,
      "outputs": [
        {
          "output_type": "stream",
          "text": [
            "Halo, selamat datang. Di program ini, kamu dapat menghitung turunan numerik menggunakan 4 metode\n",
            "Mau tau ada apa aja? (Y/N) : N\n",
            "Oke udah hafal berarti, langsung lanjut isi fungsinya!\n",
            "Mau pake metode apa? (1 = TPEP, 2 = TPMP, 3 = FPEP, 4 = FPMP) : 2\n",
            "Masukkan titik dimana nilai turunan fungsinya akan diaproksimasi : 2.7\n",
            "Masukkan stepsize nya : 0.1\n",
            "Ingin diturunkan berapa kali? : 3\n",
            "0.7449999999998846\n",
            "Masukkan titik dimana nilai turunan fungsinya akan diaproksimasi : \n"
          ],
          "name": "stdout"
        },
        {
          "output_type": "error",
          "ename": "SyntaxError",
          "evalue": "ignored",
          "traceback": [
            "\u001b[0;36m  File \u001b[0;32m\"<string>\"\u001b[0;36m, line \u001b[0;32munknown\u001b[0m\n\u001b[0;31m    \u001b[0m\n\u001b[0m    ^\u001b[0m\n\u001b[0;31mSyntaxError\u001b[0m\u001b[0;31m:\u001b[0m unexpected EOF while parsing\n"
          ]
        }
      ]
    },
    {
      "cell_type": "markdown",
      "metadata": {
        "id": "vdLpQ6rzloF5"
      },
      "source": [
        "Jadi, didapat\n",
        "- f'(2.4) = 1.1604999999999999 menggunakan metode FPEP\n",
        "- f''(2.5) = -1.041499999999984 menggunakan metode TPEP\n",
        "- f'''(2.7) = 0.7449999999998846 menggunakan metode TPMP\n"
      ]
    },
    {
      "cell_type": "code",
      "metadata": {
        "id": "uwMWXEP-jtWG"
      },
      "source": [],
      "execution_count": null,
      "outputs": []
    }
  ]
}